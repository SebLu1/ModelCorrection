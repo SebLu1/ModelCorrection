{
 "cells": [
  {
   "cell_type": "code",
   "execution_count": null,
   "metadata": {},
   "outputs": [],
   "source": [
    "import numpy as np\n",
    "from tensorboardX import SummaryWriter\n",
    "from matplotlib import pyplot as plt\n",
    "import tensorflow as tf\n",
    "import random\n",
    "import os"
   ]
  },
  {
   "cell_type": "code",
   "execution_count": null,
   "metadata": {},
   "outputs": [],
   "source": [
    "import numpy as np\n",
    "from tensorboardX import SummaryWriter\n",
    "from matplotlib import pyplot as plt\n",
    "import tensorflow as tf\n",
    "import random\n",
    "import os\n",
    "from Adjoint_regularizition import Regularized\n",
    "from Adjoint_network import TwoNets\n",
    "from Classical_correction import ClassicalCorrection\n",
    "import Operators.Load_PAT2D_data as PATdata\n",
    "import platform\n",
    "from Framework import approx_PAT_matrix as ApproxPAT\n",
    "from Framework import exact_PAT_operator as ExactPAT\n",
    "\n",
    "if platform.node() == 'motel':\n",
    "    prefix = '/local/scratch/public/sl767/ModelCorrection/'\n",
    "else:\n",
    "    prefix = ''\n",
    "\n",
    "matrix_path = prefix+'Data/Matrices/threshSingleMatrix4Py.mat'\n",
    "# data_path = prefix+'Data/vessels/'\n",
    "# saves_path = prefix+'Saves/vessels/'\n",
    "data_path = prefix+'Data/balls64/'\n",
    "saves_path = prefix+'Saves/balls64/'\n",
    "vessel_saves_path = prefix+'Saves/vessels/'\n",
    "\n",
    "print(saves_path)\n",
    "print(data_path)\n",
    "\n",
    "train_append = 'trainDataSet.mat'\n",
    "test_append = 'testDataSet.mat'\n",
    "data_sets = PATdata.read_data_sets(data_path + train_append, data_path + test_append, vessels=False, flip90=False)\n",
    "# data_sets = PATdata.read_data_sets(data_path + train_append, data_path + test_append)\n",
    "\n",
    "vessel_path = prefix+'Data/vessels/'\n",
    "vessel_train_append = 'trainDataSet_VesselClean.mat'\n",
    "vessel_test_append = 'testDataSet_VesselClean.mat'\n",
    "vessel_data = PATdata.read_data_sets(vessel_path + vessel_train_append, vessel_path + vessel_test_append, vessels=False, flip90=False)\n",
    "\n",
    "INPUT_DIM = (64,64)\n",
    "OUTPUT_DIM = (64,64)\n",
    "\n",
    "approx = ApproxPAT(matrix_path=matrix_path, input_dim=INPUT_DIM, output_dim=OUTPUT_DIM)\n",
    "exact = ExactPAT(matrix_path=matrix_path, input_dim=INPUT_DIM, output_dim=OUTPUT_DIM)"
   ]
  },
  {
   "cell_type": "markdown",
   "metadata": {},
   "source": [
    "# Experiments to compare generalizability between data sets"
   ]
  },
  {
   "cell_type": "code",
   "execution_count": null,
   "metadata": {},
   "outputs": [],
   "source": [
    "image = vessel_data.test.default_batch(32)"
   ]
  },
  {
   "cell_type": "code",
   "execution_count": null,
   "metadata": {},
   "outputs": [],
   "source": [
    "noise_level = 0.01\n",
    "n_steps = 300\n",
    "TV = 7e-4\n",
    "n_print = 10\n",
    "verbose = True"
   ]
  },
  {
   "cell_type": "code",
   "execution_count": null,
   "metadata": {
    "scrolled": true
   },
   "outputs": [],
   "source": [
    "regularized = TwoNets(path=saves_path, true_np=exact, appr_np=approx, lam=TV, data_sets=data_sets, noise_level = noise_level,\n",
    "                         experiment_name='TwoNetsRekursiveOldNet', savepoint=None)\n",
    "res_TN = regularized.log_optimization(image, recursions=n_steps, step_size=0.2, lam=TV, \n",
    "                       verbose=verbose, tensorboard=False, n_print=n_print)\n",
    "regularized.end()"
   ]
  },
  {
   "cell_type": "code",
   "execution_count": null,
   "metadata": {
    "scrolled": true
   },
   "outputs": [],
   "source": [
    "n_steps = 10000\n",
    "classical = ClassicalCorrection(path=saves_path, true_np=exact, appr_np=approx, lam=.001, data_sets=data_sets,\n",
    "                         noise_level = noise_level, experiment_name='ClassicalRegularization', characteristic_scale=.25)\n",
    "res_AEM = classical.log_optimization(image, recursions=n_steps, step_size=0.5, lam=TV, \n",
    "                       verbose=verbose, tensorboard=False, n_print=n_print)\n",
    "classical.end()"
   ]
  },
  {
   "cell_type": "markdown",
   "metadata": {},
   "source": [
    "##### Trained on vessels, evaluated on balls"
   ]
  },
  {
   "cell_type": "code",
   "execution_count": null,
   "metadata": {},
   "outputs": [],
   "source": [
    "TV = 7e-4\n",
    "noise_level = 0.01\n",
    "n_steps = 300\n",
    "n_print = 10\n",
    "verbose = True"
   ]
  },
  {
   "cell_type": "code",
   "execution_count": null,
   "metadata": {},
   "outputs": [],
   "source": [
    "regularized = TwoNets(path=vessel_saves_path, true_np=exact, appr_np=approx, lam=TV, data_sets=vessel_data, noise_level = noise_level,\n",
    "                         experiment_name='TwoNetsRekursiveAug', savepoint=None, characteristic_scale=.25)\n"
   ]
  },
  {
   "cell_type": "code",
   "execution_count": null,
   "metadata": {},
   "outputs": [],
   "source": [
    "classical = ClassicalCorrection(path=vessel_saves_path, true_np=exact, appr_np=approx, lam=.001, data_sets=vessel_data,\n",
    "                         noise_level = noise_level, experiment_name='ClassicalRegularization', characteristic_scale=.25)"
   ]
  },
  {
   "cell_type": "code",
   "execution_count": null,
   "metadata": {},
   "outputs": [],
   "source": [
    "image = data_sets.test.default_batch(32)"
   ]
  },
  {
   "cell_type": "code",
   "execution_count": null,
   "metadata": {},
   "outputs": [],
   "source": [
    "n_steps = 2000\n",
    "TV = 7e-3\n",
    "n_print = 10\n",
    "verbose = True\n",
    "res = {}"
   ]
  },
  {
   "cell_type": "code",
   "execution_count": null,
   "metadata": {},
   "outputs": [],
   "source": [
    "TV = 1e-2\n",
    "res[f'FB_{TV}'] = regularized.log_optimization(image, recursions=n_steps, step_size=0.1, lam=TV, \n",
    "                       verbose=verbose, tensorboard=False, n_print=n_print)"
   ]
  },
  {
   "cell_type": "code",
   "execution_count": null,
   "metadata": {},
   "outputs": [],
   "source": [
    "### This is the original parameter used\n",
    "TV = 7e-4\n",
    "res[f'FB_{TV}']  = regularized.log_optimization(image, recursions=n_steps, step_size=0.2, lam=TV, \n",
    "                       verbose=verbose, tensorboard=False, n_print=n_print)"
   ]
  },
  {
   "cell_type": "code",
   "execution_count": null,
   "metadata": {},
   "outputs": [],
   "source": [
    "### This is the original parameter used\n",
    "TV = 7e-4\n",
    "res['Uncorrected']  = regularized.log_optimization(image, recursions=n_steps, step_size=0.2, lam=TV, \n",
    "                       verbose=verbose, tensorboard=False, n_print=n_print, operator='Approx')"
   ]
  },
  {
   "cell_type": "code",
   "execution_count": null,
   "metadata": {},
   "outputs": [],
   "source": [
    "TV = 7e-5\n",
    "res[f'AEM_{TV}']  = classical.log_optimization(image, recursions=n_steps, step_size=0.2, lam=TV, \n",
    "                       verbose=verbose, tensorboard=False, n_print=n_print)"
   ]
  },
  {
   "cell_type": "code",
   "execution_count": null,
   "metadata": {},
   "outputs": [],
   "source": [
    "n_steps = 20000\n",
    "TV = 7e-4\n",
    "res[f'AEM_{TV}']  = classical.log_optimization(image, recursions=n_steps, step_size=0.2, lam=TV, \n",
    "                       verbose=verbose, tensorboard=False, n_print=n_print)"
   ]
  },
  {
   "cell_type": "code",
   "execution_count": null,
   "metadata": {},
   "outputs": [],
   "source": [
    "TV = 7e-3\n",
    "res[f'AEM_{TV}']  = classical.log_optimization(image, recursions=n_steps, step_size=0.2, lam=TV, \n",
    "                       verbose=verbose, tensorboard=False, n_print=n_print)"
   ]
  },
  {
   "cell_type": "code",
   "execution_count": null,
   "metadata": {},
   "outputs": [],
   "source": [
    "TV = 7e-2\n",
    "res[f'AEM_{TV}']  = classical.log_optimization(image, recursions=n_steps, step_size=0.2, lam=TV, \n",
    "                       verbose=verbose, tensorboard=False, n_print=n_print)"
   ]
  },
  {
   "cell_type": "markdown",
   "metadata": {},
   "source": [
    "### Performances\n",
    "- AEM: 0.58\n",
    "- FA, old TV Para: 0.40\n",
    "- FA, new TV Para: 0.35\n",
    "\n",
    "- Accurate: 0.11\n",
    "- Uncorrected: 0.55\n",
    "- AEM, trained on balls: 0.31\n",
    "- FA, trained on balls: 0.15"
   ]
  },
  {
   "cell_type": "code",
   "execution_count": null,
   "metadata": {},
   "outputs": [],
   "source": [
    "fig_path = '/local/scratch/public/sl767/ModelCorrection/Figures/CrossData/'"
   ]
  },
  {
   "cell_type": "code",
   "execution_count": null,
   "metadata": {},
   "outputs": [],
   "source": [
    "fig_name = 'TrainedVessels_EvalBalls_comp.png'\n",
    "vmax = image[0,...,0].max()\n",
    "fig = plt.figure(figsize=(12,3))\n",
    "plt.subplot(141)\n",
    "im = plt.imshow(image[0,...,0]/vmax, vmin=0, vmax=1)\n",
    "plt.axis('off')\n",
    "plt.title('Ground Truth')\n",
    "plt.subplot(142)\n",
    "plt.imshow(res['Uncorrected'][1][0,...,0]/vmax, vmin=0, vmax=1)\n",
    "plt.axis('off')\n",
    "plt.title('Uncorrected')\n",
    "plt.subplot(143)\n",
    "plt.imshow(res['FB_0.0007'][1][0,...,0]/vmax, vmin=0, vmax=1)\n",
    "plt.axis('off')\n",
    "plt.title('For.-Adj. Original TV param.')\n",
    "plt.subplot(144)\n",
    "plt.imshow(res['FB_0.01'][1][0,...,0]/vmax, vmin=0, vmax=1)\n",
    "plt.axis('off')\n",
    "plt.title('For.-Adj. New TV param.')\n",
    "cbar_ax = fig.add_axes([0.93, 0.15, 0.015, 0.7])\n",
    "fig.colorbar(im, cax=cbar_ax)\n",
    "plt.savefig(fig_path+fig_name, dpi=300, bbox_inches='tight', transparent=True)"
   ]
  },
  {
   "cell_type": "code",
   "execution_count": null,
   "metadata": {},
   "outputs": [],
   "source": [
    "fig_name = 'TrainedVessels_EvalBalls_renormalized_comp.png'\n",
    "vmax = image[0,...,0].max()\n",
    "fig = plt.figure(figsize=(12,3))\n",
    "plt.subplot(141)\n",
    "im = plt.imshow(image[0,...,0])\n",
    "plt.axis('off')\n",
    "plt.title('Ground Truth')\n",
    "plt.subplot(142)\n",
    "plt.imshow(res['Uncorrected'][1][0,...,0])\n",
    "plt.axis('off')\n",
    "plt.title('Uncorrected')\n",
    "plt.subplot(143)\n",
    "plt.imshow(res['FB_0.0007'][1][0,...,0])\n",
    "plt.axis('off')\n",
    "plt.title('For.-Adj. Original TV param.')\n",
    "plt.subplot(144)\n",
    "plt.imshow(res['FB_0.01'][1][0,...,0])\n",
    "plt.axis('off')\n",
    "plt.title('For.-Adj. New TV param.')\n",
    "# cbar_ax = fig.add_axes([0.93, 0.15, 0.015, 0.7])\n",
    "# fig.colorbar(im, cax=cbar_ax)\n",
    "plt.savefig(fig_path+fig_name, dpi=300, bbox_inches='tight', transparent=True)"
   ]
  },
  {
   "cell_type": "code",
   "execution_count": null,
   "metadata": {},
   "outputs": [],
   "source": [
    "fig_name = 'TrainedVessels_EvalBalls.png'\n",
    "vmax = image[0,...,0].max()\n",
    "fig = plt.figure(figsize=(12,3))\n",
    "plt.subplot(141)\n",
    "im = plt.imshow(image[0,...,0]/vmax, vmin=0, vmax=1)\n",
    "plt.axis('off')\n",
    "plt.title('Ground Truth')\n",
    "plt.subplot(142)\n",
    "plt.imshow(res['AEM_0.0007'][1][0,...,0]/vmax, vmin=0, vmax=1)\n",
    "plt.axis('off')\n",
    "plt.title('AEM')\n",
    "plt.subplot(143)\n",
    "plt.imshow(res['FB_0.0007'][1][0,...,0]/vmax, vmin=0, vmax=1)\n",
    "plt.axis('off')\n",
    "plt.title('For.-Adj. Original TV param.')\n",
    "plt.subplot(144)\n",
    "plt.imshow(res['FB_0.01'][1][0,...,0]/vmax, vmin=0, vmax=1)\n",
    "plt.axis('off')\n",
    "plt.title('For.-Adj. New TV param.')\n",
    "cbar_ax = fig.add_axes([0.93, 0.15, 0.015, 0.7])\n",
    "fig.colorbar(im, cax=cbar_ax)\n",
    "plt.savefig(fig_path+fig_name, dpi=300, bbox_inches='tight', transparent=True)"
   ]
  },
  {
   "cell_type": "code",
   "execution_count": null,
   "metadata": {},
   "outputs": [],
   "source": [
    "fig_name = 'TrainedVessels_EvalBalls_renormalized.png'\n",
    "# vmax = image[0,...,0].max()\n",
    "fig = plt.figure(figsize=(12,3))\n",
    "plt.subplot(141)\n",
    "im = plt.imshow(image[0,...,0])\n",
    "plt.axis('off')\n",
    "plt.title('Ground Truth')\n",
    "plt.subplot(142)\n",
    "plt.imshow(res['AEM_0.0007'][1][0,...,0])\n",
    "plt.axis('off')\n",
    "plt.title('AEM')\n",
    "plt.subplot(143)\n",
    "plt.imshow(res['FB_0.0007'][1][0,...,0])\n",
    "plt.axis('off')\n",
    "plt.title('For.-Adj. Original TV param.')\n",
    "plt.subplot(144)\n",
    "plt.imshow(res['FB_0.01'][1][0,...,0])\n",
    "plt.axis('off')\n",
    "plt.title('For.-Adj. New TV param.')\n",
    "plt.savefig(fig_path+fig_name, dpi=300, bbox_inches='tight', transparent=True)"
   ]
  },
  {
   "cell_type": "code",
   "execution_count": null,
   "metadata": {},
   "outputs": [],
   "source": [
    "n_fig = len(reg_param.keys())\n",
    "for n_image in range(5):\n",
    "    fig_name = f'Reconstuctions_{n_image}'\n",
    "    fig = plt.figure(figsize=(15, 6))\n",
    "    plt.subplot(1,n_fig+1,1)\n",
    "    vmax=image[n_image,...,0].max()\n",
    "    im = plt.imshow(image[n_image,...,0]/vmax, vmin=0, vmax=1)\n",
    "#     plt.colorbar()\n",
    "    plt.axis('off')\n",
    "    plt.title('Ground Truth')\n",
    "    for k, method in enumerate(reg_param):\n",
    "        plt.subplot(1,n_fig+1,k+2)\n",
    "        plt.imshow(res_aem[method][1][n_image,...,0]/vmax, vmin=0, vmax=1)\n",
    "        plt.axis('off')\n",
    "        plt.title(method)\n",
    "    fig.subplots_adjust(right=0.9)\n",
    "    cbar_ax = fig.add_axes([0.93, 0.15, 0.015, 0.7])\n",
    "    fig.colorbar(im, cax=cbar_ax)\n",
    "#     plt.colorbar()\n",
    "#     plt.savefig(fig_path+fig_name, dpi=300, bbox_inches='tight', transparent=True)\n",
    "    plt.show()"
   ]
  },
  {
   "cell_type": "code",
   "execution_count": null,
   "metadata": {},
   "outputs": [],
   "source": [
    "classical.end()\n",
    "regularized.end()"
   ]
  },
  {
   "cell_type": "markdown",
   "metadata": {},
   "source": [
    "# Experiment to obtain images for forward and gradient on ball data"
   ]
  },
  {
   "cell_type": "code",
   "execution_count": null,
   "metadata": {},
   "outputs": [],
   "source": [
    "TV = 7e-4\n",
    "regularized = TwoNets(path=saves_path, true_np=exact, appr_np=approx, lam=TV, data_sets=data_sets,\n",
    "                         experiment_name='TwoNetsRekursiveOldNet', savepoint=None)"
   ]
  },
  {
   "cell_type": "code",
   "execution_count": null,
   "metadata": {},
   "outputs": [],
   "source": [
    "image = data_sets.test.default_batch(16)\n",
    "x, data = regularized.sess.run([regularized.x_ini, regularized.measurement], feed_dict={regularized.input_image: image})\n",
    "x = np.maximum(x, 0)"
   ]
  },
  {
   "cell_type": "code",
   "execution_count": null,
   "metadata": {},
   "outputs": [],
   "source": [
    "for k in range(1):\n",
    "    x, track = regularized.step(x, data, .001, 0.2)"
   ]
  },
  {
   "cell_type": "code",
   "execution_count": null,
   "metadata": {},
   "outputs": [],
   "source": [
    "i = 0\n",
    "vmin = min([track['TrueGrad'][i,...].min(), track['ApproxGrad'][i,...].min(), track['CorrectedGrad'][i,...].min()])\n",
    "vmax = max([track['TrueGrad'][i,...].max(), track['ApproxGrad'][i,...].max(), track['CorrectedGrad'][i,...].max()])\n",
    "print(vmin, vmax)\n",
    "plt.figure(figsize=(10,10))\n",
    "plt.subplot(131)\n",
    "plt.imshow(track['TrueGrad'][i,...,0], vmin=vmin, vmax=vmax)\n",
    "plt.title('True Gradient')\n",
    "plt.axis('off')\n",
    "plt.subplot(132)\n",
    "plt.imshow(track['ApproxGrad'][i,...,0], vmin=vmin, vmax=vmax)\n",
    "plt.title('Approximate Gradient')\n",
    "plt.axis('off')\n",
    "plt.subplot(133)\n",
    "plt.imshow(track['CorrectedGrad'][i,...,0], vmin=vmin, vmax=vmax)\n",
    "plt.title('Corrected Gradient')\n",
    "plt.axis('off')\n",
    "plt.savefig(save_dir+'Gradients_Iteration_0')\n",
    "plt.show()"
   ]
  },
  {
   "cell_type": "code",
   "execution_count": null,
   "metadata": {},
   "outputs": [],
   "source": [
    "vmin = min([track['TrueY'][i,...].min(), track['ApproxY'][i,...].min(), track['CorrectedY'][i,...].min()])\n",
    "vmax = max([track['TrueY'][i,...].max(), track['ApproxY'][i,...].max(), track['CorrectedY'][i,...].max()])\n",
    "print(vmin, vmax)\n",
    "plt.figure(figsize=(10,10))\n",
    "plt.subplot(131)\n",
    "plt.imshow(track['TrueY'][i,...,0])\n",
    "plt.title('True Measurement')\n",
    "plt.axis('off')\n",
    "plt.subplot(132)\n",
    "plt.imshow(track['ApproxY'][i,...,0])\n",
    "plt.title('Approximate Measurement')\n",
    "plt.axis('off')\n",
    "plt.subplot(133)\n",
    "plt.imshow(track['CorrectedY'][i,...,0])\n",
    "plt.title('Corrected Measurement')\n",
    "plt.axis('off')\n",
    "plt.savefig(save_dir+'Measurements_Iteration_0')\n",
    "plt.show()"
   ]
  },
  {
   "cell_type": "markdown",
   "metadata": {},
   "source": [
    "# Experiments to obtain model performance graphs"
   ]
  },
  {
   "cell_type": "markdown",
   "metadata": {},
   "source": [
    "# Evaluations Vessel Data"
   ]
  },
  {
   "cell_type": "code",
   "execution_count": null,
   "metadata": {},
   "outputs": [],
   "source": [
    "import numpy as np\n",
    "from matplotlib import pyplot as plt\n",
    "import tensorflow as tf\n",
    "import random\n",
    "import os\n",
    "import platform\n",
    "from Adjoint_regularizition import Regularized\n",
    "from Adjoint_network import TwoNets\n",
    "from Classical_correction import ClassicalCorrection\n",
    "import Operators.Load_PAT2D_data as PATdata\n",
    "import platform\n",
    "from Framework import approx_PAT_matrix as ApproxPAT\n",
    "from Framework import exact_PAT_operator as ExactPAT\n",
    "\n",
    "if platform.node() == 'motel':\n",
    "    prefix = '/local/scratch/public/sl767/ModelCorrection/'\n",
    "else:\n",
    "    prefix = ''\n",
    "\n",
    "matrix_path = prefix+'Data/Matrices/threshSingleMatrix4Py.mat'"
   ]
  },
  {
   "cell_type": "code",
   "execution_count": null,
   "metadata": {},
   "outputs": [],
   "source": [
    "data_path = prefix+'Data/vessels/'\n",
    "saves_path = prefix+'Saves/vessels/'\n",
    "\n",
    "print(saves_path)\n",
    "print(data_path)\n",
    "\n",
    "train_append = 'trainDataSet_VesselClean.mat'\n",
    "test_append = 'testDataSet_VesselClean.mat'\n",
    "data_sets = PATdata.read_data_sets(data_path + train_append, data_path + test_append, vessels=False, flip90=False)"
   ]
  },
  {
   "cell_type": "code",
   "execution_count": null,
   "metadata": {},
   "outputs": [],
   "source": [
    "INPUT_DIM = (64,64)\n",
    "OUTPUT_DIM = (64,64)\n",
    "\n",
    "approx = ApproxPAT(matrix_path=matrix_path, input_dim=INPUT_DIM, output_dim=OUTPUT_DIM)\n",
    "exact = ExactPAT(matrix_path=matrix_path, input_dim=INPUT_DIM, output_dim=OUTPUT_DIM)"
   ]
  },
  {
   "cell_type": "code",
   "execution_count": null,
   "metadata": {},
   "outputs": [],
   "source": [
    "image = data_sets.test.default_batch(32)"
   ]
  },
  {
   "cell_type": "code",
   "execution_count": null,
   "metadata": {},
   "outputs": [],
   "source": [
    "exp_name = 'TV'\n",
    "exp_name_rec = 'TV_0.0007'\n",
    "n_print = 25\n",
    "n_steps = 250\n",
    "verbose = False\n",
    "noise_level = 0.01\n",
    "TV = 7e-4\n",
    "image = data_sets.test.default_batch(32)\n",
    "res = {}"
   ]
  },
  {
   "cell_type": "code",
   "execution_count": null,
   "metadata": {
    "scrolled": true
   },
   "outputs": [],
   "source": [
    "exp_name = 'TV'\n",
    "TV = 7e-4\n",
    "regularized = Regularized(path=saves_path, true_np=exact, appr_np=approx, lam=TV, data_sets=data_sets,\n",
    "                         experiment_name='RegularizedAdjoint' + exp_name, savepoint=None)\n",
    "res['Forward'] = regularized.log_optimization(image, recursions=n_steps, step_size=0.2, lam=TV, \n",
    "                       verbose=verbose, tensorboard=False, n_print=n_print)\n",
    "regularized.end()"
   ]
  },
  {
   "cell_type": "code",
   "execution_count": null,
   "metadata": {
    "scrolled": true
   },
   "outputs": [],
   "source": [
    "exp_name_rec = 'TV_0.0007'\n",
    "TV = 7e-4\n",
    "regularized = Regularized(path=saves_path, true_np=exact, appr_np=approx, lam=TV, data_sets=data_sets,\n",
    "                         experiment_name='RegularizedAdjointRekursive' + exp_name_rec, savepoint=None)\n",
    "res['Forward Rec.'] = regularized.log_optimization(image, recursions=n_steps, step_size=0.2, lam=TV, \n",
    "                       verbose=verbose, tensorboard=False, n_print=n_print)\n",
    "regularized.end()"
   ]
  },
  {
   "cell_type": "code",
   "execution_count": null,
   "metadata": {
    "scrolled": true
   },
   "outputs": [],
   "source": [
    "exp_name = 'TV'\n",
    "TV = 7e-4\n",
    "twoNets = TwoNets(path=saves_path, true_np=exact, appr_np=approx, lam=TV, data_sets=data_sets,\n",
    "                         experiment_name='TwoNets' + exp_name, savepoint=None)\n",
    "res['Forward-Adjoint'] = twoNets.log_optimization(image, recursions=n_steps, step_size=0.2, lam=TV, \n",
    "                       verbose=verbose, tensorboard=False, n_print=n_print)\n",
    "twoNets.end()"
   ]
  },
  {
   "cell_type": "code",
   "execution_count": null,
   "metadata": {
    "scrolled": true
   },
   "outputs": [],
   "source": [
    "exp_name_rec = 'Aug'\n",
    "TV = 3e-4\n",
    "twoNets = TwoNets(path=saves_path, true_np=exact, appr_np=approx, lam=TV, data_sets=data_sets,\n",
    "                         experiment_name='TwoNetsRekursive' + exp_name_rec, savepoint=None)\n",
    "res['Forward-Adjoint Rec.'] = twoNets.log_optimization(image, recursions=n_steps, step_size=0.2, lam=TV, \n",
    "                       verbose=verbose, tensorboard=False, n_print=n_print)\n",
    "twoNets.end()"
   ]
  },
  {
   "cell_type": "code",
   "execution_count": null,
   "metadata": {},
   "outputs": [],
   "source": [
    "model = ClassicalCorrection(path=saves_path, true_np=exact, appr_np=approx, lam=TV, data_sets=data_sets,\n",
    "                         noise_level = .01, experiment_name='ClassicalRegularization')"
   ]
  },
  {
   "cell_type": "code",
   "execution_count": null,
   "metadata": {
    "scrolled": true
   },
   "outputs": [],
   "source": [
    "TV = 3e-4\n",
    "res['Accurate'] = model.log_optimization(image, recursions=n_steps, step_size=0.2, lam=TV, \n",
    "                       verbose=verbose, tensorboard=False, n_print=n_print, operator='True')"
   ]
  },
  {
   "cell_type": "code",
   "execution_count": null,
   "metadata": {
    "scrolled": true
   },
   "outputs": [],
   "source": [
    "TV = 7e-4\n",
    "res['Uncorrected'] = model.log_optimization(image, recursions=n_steps, step_size=0.2, lam=TV, \n",
    "                       verbose=verbose, tensorboard=False, n_print=n_print, operator='Approx')"
   ]
  },
  {
   "cell_type": "code",
   "execution_count": null,
   "metadata": {
    "scrolled": true
   },
   "outputs": [],
   "source": [
    "### Best parameter: .00001\n",
    "n_steps = 16000\n",
    "n_print = 2000\n",
    "TV = .00001\n",
    "res['AEM'] = model.log_optimization(image, recursions=n_steps, step_size=0.5, lam=TV, \n",
    "                       verbose=verbose, tensorboard=False, n_print=n_print)"
   ]
  },
  {
   "cell_type": "code",
   "execution_count": null,
   "metadata": {},
   "outputs": [],
   "source": [
    "model.end()"
   ]
  },
  {
   "cell_type": "code",
   "execution_count": null,
   "metadata": {},
   "outputs": [],
   "source": [
    "fig_path = '/local/scratch/public/sl767/ModelCorrection/Figures/vessels/'"
   ]
  },
  {
   "cell_type": "code",
   "execution_count": null,
   "metadata": {},
   "outputs": [],
   "source": [
    "#### ATTENTION! Executing this cell overwrites existing savepoints!!! #####\n",
    "results_path = fig_path + 'Resluts/'\n",
    "# os.mkdir(results_path)\n",
    "for k, v in res.items():\n",
    "    np.savez(results_path+k+'.npz', **(v[0]))\n",
    "    np.savez(results_path+k+'_images.npz', *v[1])"
   ]
  },
  {
   "cell_type": "code",
   "execution_count": null,
   "metadata": {},
   "outputs": [],
   "source": [
    "# Loading savepoint\n",
    "results_path = fig_path + 'Resluts/'\n",
    "res_loaded = {}\n",
    "methods = ['Forward', 'Forward Rec.', 'Forward-Adjoint', 'Forward-Adjoint Rec.', 'Accurate', 'Uncorrected', 'AEM']\n",
    "for m in methods:\n",
    "    res_loaded[m] = []\n",
    "    res_loaded[m].append(np.load(results_path+ m +'.npz'))\n",
    "    res_loaded[m].append(np.load(results_path+ m +'_images.npz'))"
   ]
  },
  {
   "cell_type": "markdown",
   "metadata": {},
   "source": [
    "# Generating figures - vessel data"
   ]
  },
  {
   "cell_type": "code",
   "execution_count": null,
   "metadata": {},
   "outputs": [],
   "source": [
    "res.keys()"
   ]
  },
  {
   "cell_type": "code",
   "execution_count": null,
   "metadata": {},
   "outputs": [],
   "source": [
    "color_dic = {\n",
    "    'Forward': 'b',\n",
    "    'Forward Rec.': 'm', \n",
    "    'Forward-Adjoint': 'g', \n",
    "    'Forward-Adjoint Rec.': 'c',\n",
    "    'AEM': 'k',\n",
    "    'AEM Conv.': 'k',\n",
    "    'Accurate': 'k',\n",
    "    'Uncorrected': 'r'\n",
    "}\n",
    "\n",
    "# b: blue\n",
    "# g: green\n",
    "# r: red\n",
    "# c: cyan\n",
    "# m: magenta\n",
    "# y: yellow\n",
    "# k: black\n",
    "# w: white\n",
    "\n",
    "line_types = {\n",
    "    'Forward': '--',\n",
    "    'Forward Rec.': '--', \n",
    "    'Forward-Adjoint': '-.', \n",
    "    'Forward-Adjoint Rec.': '-.',\n",
    "    'AEM': ':',\n",
    "    'AEM Conv.': '--',\n",
    "    'Accurate': '-',\n",
    "    'Uncorrected': '-'\n",
    "}"
   ]
  },
  {
   "cell_type": "code",
   "execution_count": null,
   "metadata": {},
   "outputs": [],
   "source": [
    "res['AEM Conv.'] = [{\n",
    "    'quality': 250*[0.6511457562446594]\n",
    "}]\n",
    "\n",
    "n_steps = 250\n",
    "# Plot Quality'\n",
    "fig_name = 'quality'\n",
    "methods= res.keys()\n",
    "plt.figure(figsize=(7,7))\n",
    "for k in methods:\n",
    "    plt.plot(range(n_steps), res[k][0]['quality'][:n_steps], color_dic[k]+line_types[k], label=k)\n",
    "plt.legend(bbox_to_anchor=(1.1, -0.12), ncol=3, fontsize=12)\n",
    "plt.xlabel('Optimisation Steps', fontsize=14)\n",
    "plt.ylabel('Relative Error (L2)', fontsize=14)\n",
    "plt.savefig(fig_path+fig_name, dpi=300, bbox_inches='tight', transparent=True)\n",
    "plt.show()\n",
    "\n",
    "del res['AEM Conv.']"
   ]
  },
  {
   "cell_type": "code",
   "execution_count": null,
   "metadata": {},
   "outputs": [],
   "source": [
    "# Plot Angle'\n",
    "n_steps = 250\n",
    "fig_name = 'angle'\n",
    "methods= ['Forward', 'Forward Rec.', 'Forward-Adjoint', 'Forward-Adjoint Rec.', 'AEM']\n",
    "plt.figure(figsize=(7,7))\n",
    "for k in methods:\n",
    "    plt.plot(range(n_steps), res[k][0]['angle'][:n_steps], color_dic[k]+line_types[k], label=k)\n",
    "plt.legend(bbox_to_anchor=(1., -0.12), ncol=3, fontsize=12)\n",
    "plt.xlabel('Optimisation Steps', fontsize=14)\n",
    "plt.ylabel('Alignement to true gradient', fontsize=14)\n",
    "# plt.savefig(fig_path+fig_name, dpi=300, bbox_inches='tight', transparent=True)\n",
    "plt.show()"
   ]
  },
  {
   "cell_type": "code",
   "execution_count": null,
   "metadata": {},
   "outputs": [],
   "source": [
    "# Plot Forward Approximation'\n",
    "fig_name = 'ForwardError'\n",
    "methods= ['Forward', 'Forward Rec.', 'Forward-Adjoint', 'Forward-Adjoint Rec.']\n",
    "plt.figure(figsize=(7,7))\n",
    "for k in methods:\n",
    "    plt.plot(range(n_steps), res[k][0]['rel_loss_fwd'], color_dic[k]+line_types[k], label=k)\n",
    "plt.legend(bbox_to_anchor=(.9, -0.12), ncol=2, fontsize=12)\n",
    "plt.xlabel('Optimisation Steps', fontsize=14)\n",
    "plt.ylabel('Relative error of forward approximation', fontsize=14)\n",
    "plt.savefig(fig_path+fig_name, dpi=300, bbox_inches='tight', transparent=True)\n",
    "plt.show()"
   ]
  },
  {
   "cell_type": "code",
   "execution_count": null,
   "metadata": {},
   "outputs": [],
   "source": [
    "# Plot Forward Approximation'\n",
    "fig_name = 'ForwardError_abs'\n",
    "methods= ['Forward', 'Forward Rec.', 'Forward-Adjoint', 'Forward-Adjoint Rec.']\n",
    "plt.figure(figsize=(7,7))\n",
    "for k in methods:\n",
    "    plt.plot(range(n_steps), res[k][0]['loss_fwd'], color_dic[k]+line_types[k], label=k)\n",
    "plt.legend(bbox_to_anchor=(.9, -0.12), ncol=2, fontsize=12)\n",
    "plt.xlabel('Optimisation Steps', fontsize=14)\n",
    "plt.ylabel('Error of forward approximation (L2)', fontsize=14)\n",
    "plt.savefig(fig_path+fig_name, dpi=300, bbox_inches='tight', transparent=True)\n",
    "plt.show()"
   ]
  },
  {
   "cell_type": "code",
   "execution_count": null,
   "metadata": {},
   "outputs": [],
   "source": [
    "# Plot Forward Approximation'\n",
    "fig_name = 'AdjError'\n",
    "methods= ['Forward', 'Forward Rec.', 'Forward-Adjoint', 'Forward-Adjoint Rec.']\n",
    "plt.figure(figsize=(7,7))\n",
    "for k in methods:\n",
    "    plt.plot(range(n_steps), res[k][0]['rel_loss_adj'], color_dic[k]+line_types[k], label=k)\n",
    "plt.legend(bbox_to_anchor=(.9, -0.12), ncol=2, fontsize=12)\n",
    "plt.xlabel('Optimisation Steps', fontsize=14)\n",
    "plt.ylabel('Relative error of adjoint approximation', fontsize=14)\n",
    "plt.savefig(fig_path+fig_name, dpi=300, bbox_inches='tight', transparent=True)\n",
    "plt.show()"
   ]
  },
  {
   "cell_type": "code",
   "execution_count": null,
   "metadata": {},
   "outputs": [],
   "source": [
    "# Plot Forward Approximation'\n",
    "fig_name = 'AdjError_abs'\n",
    "methods= ['Forward', 'Forward Rec.', 'Forward-Adjoint', 'Forward-Adjoint Rec.']\n",
    "plt.figure(figsize=(7,7))\n",
    "for k in methods:\n",
    "    plt.plot(range(n_steps), res[k][0]['loss_adj'], color_dic[k]+line_types[k], label=k)\n",
    "plt.legend(bbox_to_anchor=(.9, -0.12), ncol=2, fontsize=12)\n",
    "plt.xlabel('Optimisation Steps', fontsize=14)\n",
    "plt.ylabel('Error of adjoint approximation (L2)', fontsize=14)\n",
    "plt.savefig(fig_path+fig_name, dpi=300, bbox_inches='tight', transparent=True)\n",
    "plt.show()"
   ]
  },
  {
   "cell_type": "code",
   "execution_count": null,
   "metadata": {
    "scrolled": false
   },
   "outputs": [],
   "source": [
    "# Plot Angle'\n",
    "fig_name = 'dataTerm'\n",
    "methods= res.keys()\n",
    "plt.figure(figsize=(7,7))\n",
    "for k in methods:\n",
    "    plt.plot(range(n_steps), res[k][0]['DataTerm'][:n_steps], color_dic[k]+line_types[k], label=k)\n",
    "plt.legend(bbox_to_anchor=(1.1, -0.12), ncol=3, fontsize=12)\n",
    "plt.xlabel('Optimisation Steps', fontsize=14)\n",
    "plt.ylabel('Data term for true operator', fontsize=14)\n",
    "plt.savefig(fig_path+fig_name, dpi=300, bbox_inches='tight', transparent=True)\n",
    "plt.show()"
   ]
  },
  {
   "cell_type": "code",
   "execution_count": null,
   "metadata": {
    "scrolled": true
   },
   "outputs": [],
   "source": [
    "f_size = 18\n",
    "for n_image in range(30):\n",
    "    fig_name = f'Reconstuctions_{n_image}'\n",
    "    fig = plt.figure(figsize=(15, 6))\n",
    "    methods = ['Accurate', 'Uncorrected', 'AEM']\n",
    "    plt.subplot(2,4,1)\n",
    "    vmax=image[n_image,...,0].max()\n",
    "    im = plt.imshow(image[n_image,...,0]/vmax, vmin=0, vmax=1)\n",
    "#     plt.colorbar()\n",
    "    plt.axis('off')\n",
    "    plt.title('Ground Truth', fontsize=f_size)\n",
    "    for k, method in enumerate(methods):\n",
    "        plt.subplot(2,4,k+2)\n",
    "        plt.imshow(res[method][1][f'arr_{n_image}'][...,0]/vmax, vmin=0, vmax=1)\n",
    "        plt.axis('off')\n",
    "        if method in ['True', 'Uncorrected']:\n",
    "            method += ' Operator'\n",
    "        plt.title(method, fontsize=f_size)\n",
    "    methods = ['Forward', 'Forward Rec.', 'Forward-Adjoint', 'Forward-Adjoint Rec.']\n",
    "    for k, method in enumerate(methods):\n",
    "        plt.subplot(2,4,k+5)\n",
    "        plt.imshow(res[method][1][f'arr_{n_image}'][...,0]/vmax, vmin=0, vmax=1)\n",
    "        plt.axis('off')\n",
    "        plt.title(method, fontsize=f_size)\n",
    "    fig.subplots_adjust(right=0.9)\n",
    "    cbar_ax = fig.add_axes([0.93, 0.15, 0.015, 0.7])\n",
    "    fig.colorbar(im, cax=cbar_ax)\n",
    "#     plt.colorbar()\n",
    "    plt.savefig(fig_path+fig_name, dpi=300, bbox_inches='tight', transparent=True)\n",
    "    plt.show()"
   ]
  },
  {
   "cell_type": "markdown",
   "metadata": {},
   "source": [
    "# Ball Data Evaluation"
   ]
  },
  {
   "cell_type": "code",
   "execution_count": null,
   "metadata": {},
   "outputs": [],
   "source": [
    "import numpy as np\n",
    "from matplotlib import pyplot as plt\n",
    "import tensorflow as tf\n",
    "import random\n",
    "import os\n",
    "from Adjoint_regularizition import Regularized\n",
    "from Adjoint_network import TwoNets\n",
    "from Classical_correction import ClassicalCorrection\n",
    "import Operators.Load_PAT2D_data as PATdata\n",
    "import platform\n",
    "from Framework import approx_PAT_matrix as ApproxPAT\n",
    "from Framework import exact_PAT_operator as ExactPAT\n",
    "\n",
    "if platform.node() == 'motel':\n",
    "    prefix = '/local/scratch/public/sl767/ModelCorrection/'\n",
    "else:\n",
    "    prefix = ''\n",
    "\n",
    "matrix_path = prefix+'Data/Matrices/threshSingleMatrix4Py.mat'"
   ]
  },
  {
   "cell_type": "code",
   "execution_count": null,
   "metadata": {},
   "outputs": [],
   "source": [
    "data_path = prefix+'Data/balls64/'\n",
    "saves_path = prefix+'Saves/balls64/'\n",
    "\n",
    "print(saves_path)\n",
    "print(data_path)\n",
    "\n",
    "train_append = 'trainDataSet.mat'\n",
    "test_append = 'testDataSet.mat'\n",
    "data_sets = PATdata.read_data_sets(data_path + train_append, data_path + test_append, vessels=False, flip90=False)\n",
    "\n",
    "image= data_sets.test.default_batch(32)"
   ]
  },
  {
   "cell_type": "code",
   "execution_count": null,
   "metadata": {},
   "outputs": [],
   "source": [
    "INPUT_DIM = (64,64)\n",
    "OUTPUT_DIM = (64,64)\n",
    "\n",
    "approx = ApproxPAT(matrix_path=matrix_path, input_dim=INPUT_DIM, output_dim=OUTPUT_DIM)\n",
    "exact = ExactPAT(matrix_path=matrix_path, input_dim=INPUT_DIM, output_dim=OUTPUT_DIM)"
   ]
  },
  {
   "cell_type": "code",
   "execution_count": null,
   "metadata": {},
   "outputs": [],
   "source": [
    "n_print = 100\n",
    "n_steps = 4000\n",
    "verbose = True\n",
    "noise_level = 0.01\n",
    "# TV = 7e-4\n",
    "TV = 1e-3\n",
    "image = data_sets.test.default_batch(32)\n",
    "res = {}"
   ]
  },
  {
   "cell_type": "code",
   "execution_count": null,
   "metadata": {
    "scrolled": true
   },
   "outputs": [],
   "source": [
    "regularized = Regularized(path=saves_path, true_np=exact, appr_np=approx, lam=TV, data_sets=data_sets,\n",
    "                         experiment_name='RegularizedAdjointOldNet', savepoint=None)\n",
    "res['Forward'] = regularized.log_optimization(image, recursions=n_steps, step_size=0.2, lam=TV, \n",
    "                       verbose=verbose, tensorboard=False, n_print=n_print)\n",
    "regularized.end()"
   ]
  },
  {
   "cell_type": "code",
   "execution_count": null,
   "metadata": {
    "scrolled": true
   },
   "outputs": [],
   "source": [
    "regularized = Regularized(path=saves_path, true_np=exact, appr_np=approx, lam=TV, data_sets=data_sets,\n",
    "                         experiment_name='RegularizedAdjointRekursiveOldNet', savepoint=None)\n",
    "res['Forward Rec.'] = regularized.log_optimization(image, recursions=n_steps, step_size=0.2, lam=TV, \n",
    "                       verbose=verbose, tensorboard=False, n_print=n_print)\n",
    "regularized.end()"
   ]
  },
  {
   "cell_type": "code",
   "execution_count": null,
   "metadata": {
    "scrolled": true
   },
   "outputs": [],
   "source": [
    "twoNets = TwoNets(path=saves_path, true_np=exact, appr_np=approx, lam=TV, data_sets=data_sets,\n",
    "                         experiment_name='TwoNetsOldNet', savepoint=None)\n",
    "res['Forward-Adjoint'] = twoNets.log_optimization(image, recursions=n_steps, step_size=0.2, lam=TV, \n",
    "                       verbose=verbose, tensorboard=False, n_print=n_print)\n",
    "twoNets.end()"
   ]
  },
  {
   "cell_type": "code",
   "execution_count": null,
   "metadata": {
    "scrolled": true
   },
   "outputs": [],
   "source": [
    "twoNets = TwoNets(path=saves_path, true_np=exact, appr_np=approx, lam=TV, data_sets=data_sets,\n",
    "                         experiment_name='TwoNetsRekursiveOldNet', savepoint=None)\n",
    "res['Forward-Adjoint Rec.'] = twoNets.log_optimization(image, recursions=n_steps, step_size=0.2, lam=TV, \n",
    "                       verbose=verbose, tensorboard=False, n_print=n_print)\n",
    "twoNets.end()"
   ]
  },
  {
   "cell_type": "code",
   "execution_count": null,
   "metadata": {},
   "outputs": [],
   "source": [
    "model = ClassicalCorrection(path=saves_path, true_np=exact, appr_np=approx, lam=TV, data_sets=data_sets,\n",
    "                         noise_level = .01, experiment_name='ClassicalRegularization')"
   ]
  },
  {
   "cell_type": "code",
   "execution_count": null,
   "metadata": {
    "scrolled": true
   },
   "outputs": [],
   "source": [
    "res['Accurate'] = model.log_optimization(image, recursions=n_steps, step_size=0.2, lam=TV, \n",
    "                       verbose=verbose, tensorboard=False, n_print=n_print, operator='True')"
   ]
  },
  {
   "cell_type": "code",
   "execution_count": null,
   "metadata": {
    "scrolled": true
   },
   "outputs": [],
   "source": [
    "res['Uncorrected'] = model.log_optimization(image, recursions=n_steps, step_size=0.2, lam=TV, \n",
    "                       verbose=verbose, tensorboard=False, n_print=n_print, operator='Approx')"
   ]
  },
  {
   "cell_type": "code",
   "execution_count": null,
   "metadata": {
    "scrolled": true
   },
   "outputs": [],
   "source": [
    "res['AEM'] = model.log_optimization(image, recursions=n_steps, step_size=0.2, lam=TV, \n",
    "                       verbose=verbose, tensorboard=False, n_print=n_print)"
   ]
  },
  {
   "cell_type": "code",
   "execution_count": null,
   "metadata": {},
   "outputs": [],
   "source": [
    "model.end()"
   ]
  },
  {
   "cell_type": "code",
   "execution_count": null,
   "metadata": {},
   "outputs": [],
   "source": [
    "fig_path = '/local/scratch/public/sl767/ModelCorrection/Figures/balls/'"
   ]
  },
  {
   "cell_type": "code",
   "execution_count": null,
   "metadata": {},
   "outputs": [],
   "source": [
    "#### ATTENTION! Executing this cell overwrites existing savepoints!!! #####\n",
    "results_path = fig_path + 'Resluts/'\n",
    "# os.mkdir(results_path)\n",
    "for k, v in res.items():\n",
    "    np.savez(results_path+k+'.npz', **(v[0]))\n",
    "    np.savez(results_path+k+'_images.npz', *v[1])"
   ]
  },
  {
   "cell_type": "code",
   "execution_count": null,
   "metadata": {},
   "outputs": [],
   "source": [
    "results_path = fig_path + 'Resluts/'\n",
    "res_loaded = {}\n",
    "methods = ['Forward', 'Forward Rec.', 'Forward-Adjoint', 'Forward-Adjoint Rec.', 'Accurate', 'Uncorrected', 'AEM']\n",
    "for m in methods:\n",
    "    res_loaded[m] = []\n",
    "    res_loaded[m].append(np.load(results_path+ m +'.npz'))\n",
    "    res_loaded[m].append(np.load(results_path+ m +'_images.npz'))"
   ]
  },
  {
   "cell_type": "code",
   "execution_count": null,
   "metadata": {},
   "outputs": [],
   "source": [
    "res = res_loaded"
   ]
  },
  {
   "cell_type": "markdown",
   "metadata": {},
   "source": [
    "# Generating figures - ball data"
   ]
  },
  {
   "cell_type": "code",
   "execution_count": null,
   "metadata": {},
   "outputs": [],
   "source": [
    "res.keys()"
   ]
  },
  {
   "cell_type": "code",
   "execution_count": null,
   "metadata": {},
   "outputs": [],
   "source": [
    "color_dic = {\n",
    "    'Forward': 'b',\n",
    "    'Forward Rec.': 'm', \n",
    "    'Forward-Adjoint': 'g', \n",
    "    'Forward-Adjoint Rec.': 'c',\n",
    "    'AEM': 'k',\n",
    "    'AEM Conv.': 'k',\n",
    "    'Accurate': 'k',\n",
    "    'Uncorrected': 'r'\n",
    "}\n",
    "\n",
    "# b: blue\n",
    "# g: green\n",
    "# r: red\n",
    "# c: cyan\n",
    "# m: magenta\n",
    "# y: yellow\n",
    "# k: black\n",
    "# w: white\n",
    "\n",
    "line_types = {\n",
    "    'Forward': '--',\n",
    "    'Forward Rec.': '--', \n",
    "    'Forward-Adjoint': '-.', \n",
    "    'Forward-Adjoint Rec.': '-.',\n",
    "    'AEM': ':',\n",
    "    'AEM Conv.': '--',\n",
    "    'Accurate': '-',\n",
    "    'Uncorrected': '-'\n",
    "}"
   ]
  },
  {
   "cell_type": "code",
   "execution_count": null,
   "metadata": {},
   "outputs": [],
   "source": [
    "n_steps = 4000\n",
    "# Plot Quality'\n",
    "fig_name = 'quality'\n",
    "methods= res.keys()\n",
    "plt.figure(figsize=(7,7))\n",
    "for k in methods:\n",
    "    plt.plot(range(n_steps), res[k][0]['quality'][:n_steps], color_dic[k]+line_types[k], label=k)\n",
    "plt.legend(bbox_to_anchor=(1.1, -0.12), ncol=3, fontsize=12)\n",
    "plt.xlabel('Optimisation Steps', fontsize=14)\n",
    "plt.ylabel('Relative Error (L2)', fontsize=14)\n",
    "plt.savefig(fig_path+fig_name, dpi=300, bbox_inches='tight', transparent=True)\n",
    "plt.show()\n",
    "\n",
    "# del res['AEM Conv.']"
   ]
  },
  {
   "cell_type": "code",
   "execution_count": null,
   "metadata": {},
   "outputs": [],
   "source": [
    "# Plot Angle'\n",
    "n_steps = 4000\n",
    "fig_name = 'angle'\n",
    "methods= ['Forward', 'Forward Rec.', 'Forward-Adjoint', 'Forward-Adjoint Rec.', 'AEM']\n",
    "plt.figure(figsize=(7,7))\n",
    "for k in methods:\n",
    "    plt.plot(range(n_steps)[0::50], res[k][0]['angle'][:n_steps][0::50], color_dic[k]+line_types[k], label=k)\n",
    "plt.legend(bbox_to_anchor=(1., -0.12), ncol=3, fontsize=12)\n",
    "plt.xlabel('Optimisation Steps', fontsize=14)\n",
    "plt.ylabel('Alignement to true gradient', fontsize=14)\n",
    "plt.savefig(fig_path+fig_name, dpi=300, bbox_inches='tight', transparent=True)\n",
    "plt.show()"
   ]
  },
  {
   "cell_type": "code",
   "execution_count": null,
   "metadata": {},
   "outputs": [],
   "source": [
    "# Plot Angle\n",
    "fig_name = 'angle_500'\n",
    "n_steps = 500\n",
    "methods= ['Forward', 'Forward Rec.', 'Forward-Adjoint', 'Forward-Adjoint Rec.', 'AEM']\n",
    "plt.figure(figsize=(7,7))\n",
    "for k in methods:\n",
    "    plt.plot(range(n_steps)[0::10], res[k][0]['angle'][:n_steps][0::10], color_dic[k]+line_types[k], label=k)\n",
    "plt.legend(bbox_to_anchor=(1., -0.12), ncol=3, fontsize=12)\n",
    "plt.xlabel('Optimisation Steps', fontsize=14)\n",
    "plt.ylabel('Alignement to true gradient', fontsize=14)\n",
    "plt.savefig(fig_path+fig_name, dpi=300, bbox_inches='tight', transparent=True)\n",
    "plt.show()"
   ]
  },
  {
   "cell_type": "code",
   "execution_count": null,
   "metadata": {},
   "outputs": [],
   "source": [
    "# Plot Forward Approximation'\n",
    "fig_name = 'ForwardError'\n",
    "n_steps=4000\n",
    "methods= ['Forward', 'Forward Rec.', 'Forward-Adjoint', 'Forward-Adjoint Rec.']\n",
    "plt.figure(figsize=(7,7))\n",
    "for k in methods:\n",
    "    plt.plot(range(n_steps), res[k][0]['rel_loss_fwd'], color_dic[k]+line_types[k], label=k)\n",
    "plt.legend(bbox_to_anchor=(.9, -0.12), ncol=2, fontsize=12)\n",
    "plt.xlabel('Optimisation Steps', fontsize=14)\n",
    "plt.ylabel('Relative error of forward approximation', fontsize=14)\n",
    "plt.savefig(fig_path+fig_name, dpi=300, bbox_inches='tight', transparent=True)\n",
    "plt.show()"
   ]
  },
  {
   "cell_type": "code",
   "execution_count": null,
   "metadata": {},
   "outputs": [],
   "source": [
    "# Plot Forward Approximation'\n",
    "fig_name = 'ForwardError_abs'\n",
    "methods= ['Forward', 'Forward Rec.', 'Forward-Adjoint', 'Forward-Adjoint Rec.']\n",
    "plt.figure(figsize=(7,7))\n",
    "for k in methods:\n",
    "    plt.plot(range(n_steps), res[k][0]['loss_fwd'], color_dic[k]+line_types[k], label=k)\n",
    "plt.legend(bbox_to_anchor=(.9, -0.12), ncol=2, fontsize=12)\n",
    "plt.xlabel('Optimisation Steps', fontsize=14)\n",
    "plt.ylabel('Error of forward approximation (L2)', fontsize=14)\n",
    "plt.savefig(fig_path+fig_name, dpi=300, bbox_inches='tight', transparent=True)\n",
    "plt.show()"
   ]
  },
  {
   "cell_type": "code",
   "execution_count": null,
   "metadata": {},
   "outputs": [],
   "source": [
    "# Plot Forward Approximation'\n",
    "fig_name = 'ForwardError_300'\n",
    "n_steps=300\n",
    "methods= ['Forward', 'Forward Rec.', 'Forward-Adjoint', 'Forward-Adjoint Rec.']\n",
    "plt.figure(figsize=(7,7))\n",
    "for k in methods:\n",
    "    plt.plot(range(n_steps), res[k][0]['rel_loss_fwd'][:n_steps], color_dic[k]+line_types[k], label=k)\n",
    "plt.legend(bbox_to_anchor=(.9, -0.12), ncol=2, fontsize=12)\n",
    "plt.xlabel('Optimisation Steps', fontsize=14)\n",
    "plt.ylabel('Relative Error of forward approximation', fontsize=14)\n",
    "plt.savefig(fig_path+fig_name, dpi=300, bbox_inches='tight', transparent=True)\n",
    "plt.show()"
   ]
  },
  {
   "cell_type": "code",
   "execution_count": null,
   "metadata": {},
   "outputs": [],
   "source": [
    "# Plot Forward Approximation'\n",
    "fig_name = 'ForwardError_abs_300'\n",
    "n_steps=300\n",
    "methods= ['Forward', 'Forward Rec.', 'Forward-Adjoint', 'Forward-Adjoint Rec.']\n",
    "plt.figure(figsize=(7,7))\n",
    "for k in methods:\n",
    "    plt.plot(range(n_steps), res[k][0]['loss_fwd'][:n_steps], color_dic[k]+line_types[k], label=k)\n",
    "plt.legend(bbox_to_anchor=(.9, -0.12), ncol=2, fontsize=12)\n",
    "plt.xlabel('Optimisation Steps', fontsize=14)\n",
    "plt.ylabel('Error of forward approximation (L2)', fontsize=14)\n",
    "plt.savefig(fig_path+fig_name, dpi=300, bbox_inches='tight', transparent=True)\n",
    "plt.show()"
   ]
  },
  {
   "cell_type": "code",
   "execution_count": null,
   "metadata": {},
   "outputs": [],
   "source": [
    "# Plot Forward Approximation'\n",
    "n_steps = 4000\n",
    "fig_name = 'AdjError'\n",
    "methods= ['Forward', 'Forward Rec.', 'Forward-Adjoint', 'Forward-Adjoint Rec.']\n",
    "plt.figure(figsize=(7,7))\n",
    "for k in methods:\n",
    "    plt.plot(range(n_steps), res[k][0]['rel_loss_adj'], color_dic[k]+line_types[k], label=k)\n",
    "plt.legend(bbox_to_anchor=(.9, -0.12), ncol=2, fontsize=12)\n",
    "plt.xlabel('Optimisation Steps', fontsize=14)\n",
    "plt.ylabel('Relative error of adjoint approximation', fontsize=14)\n",
    "plt.savefig(fig_path+fig_name, dpi=300, bbox_inches='tight', transparent=True)\n",
    "plt.show()"
   ]
  },
  {
   "cell_type": "code",
   "execution_count": null,
   "metadata": {},
   "outputs": [],
   "source": [
    "# Plot Forward Approximation'\n",
    "fig_name = 'AdjError_abs'\n",
    "methods= ['Forward', 'Forward Rec.', 'Forward-Adjoint', 'Forward-Adjoint Rec.']\n",
    "plt.figure(figsize=(7,7))\n",
    "for k in methods:\n",
    "    plt.plot(range(n_steps), res[k][0]['loss_adj'], color_dic[k]+line_types[k], label=k)\n",
    "plt.legend(bbox_to_anchor=(.9, -0.12), ncol=2, fontsize=12)\n",
    "plt.xlabel('Optimisation Steps', fontsize=14)\n",
    "plt.ylabel('Error of adjoint approximation (L2)', fontsize=14)\n",
    "plt.savefig(fig_path+fig_name, dpi=300, bbox_inches='tight', transparent=True)\n",
    "plt.show()"
   ]
  },
  {
   "cell_type": "code",
   "execution_count": null,
   "metadata": {},
   "outputs": [],
   "source": [
    "fig_name = 'AdjError_300'\n",
    "n_steps=300\n",
    "methods= ['Forward', 'Forward Rec.', 'Forward-Adjoint', 'Forward-Adjoint Rec.']\n",
    "plt.figure(figsize=(7,7))\n",
    "for k in methods:\n",
    "    plt.plot(range(n_steps), res[k][0]['rel_loss_adj'][:n_steps], color_dic[k]+line_types[k], label=k)\n",
    "plt.legend(bbox_to_anchor=(.9, -0.12), ncol=2, fontsize=12)\n",
    "plt.xlabel('Optimisation Steps', fontsize=14)\n",
    "plt.ylabel('Relative error of adjoint approximation', fontsize=14)\n",
    "plt.savefig(fig_path+fig_name, dpi=300, bbox_inches='tight', transparent=True)\n",
    "plt.show()"
   ]
  },
  {
   "cell_type": "code",
   "execution_count": null,
   "metadata": {},
   "outputs": [],
   "source": [
    "fig_name = 'AdjError_abs_300'\n",
    "n_steps = 300\n",
    "methods= ['Forward', 'Forward Rec.', 'Forward-Adjoint', 'Forward-Adjoint Rec.']\n",
    "plt.figure(figsize=(7,7))\n",
    "for k in methods:\n",
    "    plt.plot(range(n_steps), res[k][0]['loss_adj'][:n_steps], color_dic[k]+line_types[k], label=k)\n",
    "plt.legend(bbox_to_anchor=(.9, -0.12), ncol=2, fontsize=12)\n",
    "plt.xlabel('Optimisation Steps', fontsize=14)\n",
    "plt.ylabel('Error of adjoint approximation (L2)', fontsize=14)\n",
    "plt.savefig(fig_path+fig_name, dpi=300, bbox_inches='tight', transparent=True)\n",
    "plt.show()"
   ]
  },
  {
   "cell_type": "code",
   "execution_count": null,
   "metadata": {
    "scrolled": false
   },
   "outputs": [],
   "source": [
    "# Plot Angle'\n",
    "fig_name = 'dataTerm'\n",
    "methods= res.keys()\n",
    "plt.figure(figsize=(7,7))\n",
    "for k in methods:\n",
    "    plt.plot(range(n_steps), res[k][0]['DataTerm'][:n_steps], color_dic[k]+line_types[k], label=k)\n",
    "plt.legend(bbox_to_anchor=(1.1, -0.12), ncol=3, fontsize=12)\n",
    "plt.xlabel('Optimisation Steps', fontsize=14)\n",
    "plt.ylabel('Data term for true operator', fontsize=14)\n",
    "plt.savefig(fig_path+fig_name, dpi=300, bbox_inches='tight', transparent=True)\n",
    "plt.show()"
   ]
  },
  {
   "cell_type": "code",
   "execution_count": null,
   "metadata": {
    "scrolled": false
   },
   "outputs": [],
   "source": [
    "f_size = 18\n",
    "for n_image in range(30):\n",
    "    fig_name = f'Reconstuctions_{n_image}'\n",
    "    fig = plt.figure(figsize=(15, 6))\n",
    "    methods = ['Accurate', 'Uncorrected', 'AEM']\n",
    "    plt.subplot(2,4,1)\n",
    "    vmax=image[n_image,...,0].max()\n",
    "    im = plt.imshow(image[n_image,...,0]/vmax, vmin=0, vmax=1)\n",
    "#     plt.colorbar()\n",
    "    plt.axis('off')\n",
    "    plt.title('Ground Truth', fontsize=f_size)\n",
    "    for k, method in enumerate(methods):\n",
    "        plt.subplot(2,4,k+2)\n",
    "        plt.imshow(res[method][1][f'arr_{n_image}'][...,0]/vmax, vmin=0, vmax=1)\n",
    "        plt.axis('off')\n",
    "        if method in ['True', 'Uncorrected']:\n",
    "            method += ' Operator'\n",
    "        plt.title(method, fontsize=f_size)\n",
    "    methods = ['Forward', 'Forward Rec.', 'Forward-Adjoint', 'Forward-Adjoint Rec.']\n",
    "    for k, method in enumerate(methods):\n",
    "        plt.subplot(2,4,k+5)\n",
    "        plt.imshow(res[method][1][f'arr_{n_image}'][...,0]/vmax, vmin=0, vmax=1)\n",
    "        plt.axis('off')\n",
    "        plt.title(method, fontsize=f_size)\n",
    "    fig.subplots_adjust(right=0.9)\n",
    "    cbar_ax = fig.add_axes([0.93, 0.15, 0.015, 0.7])\n",
    "    fig.colorbar(im, cax=cbar_ax)\n",
    "#     plt.colorbar()\n",
    "    plt.savefig(fig_path+fig_name, dpi=300, bbox_inches='tight', transparent=True)\n",
    "    plt.show()"
   ]
  }
 ],
 "metadata": {
  "kernelspec": {
   "display_name": "Python 3",
   "language": "python",
   "name": "python3"
  },
  "language_info": {
   "codemirror_mode": {
    "name": "ipython",
    "version": 3
   },
   "file_extension": ".py",
   "mimetype": "text/x-python",
   "name": "python",
   "nbconvert_exporter": "python",
   "pygments_lexer": "ipython3",
   "version": "3.8.5"
  }
 },
 "nbformat": 4,
 "nbformat_minor": 2
}
