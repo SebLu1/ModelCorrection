{
 "cells": [
  {
   "cell_type": "code",
   "execution_count": 1,
   "metadata": {
    "collapsed": false,
    "deletable": true,
    "editable": true
   },
   "outputs": [
    {
     "ename": "ImportError",
     "evalue": "No module named h5py",
     "output_type": "error",
     "traceback": [
      "\u001b[0;31m---------------------------------------------------------------------------\u001b[0m",
      "\u001b[0;31mImportError\u001b[0m                               Traceback (most recent call last)",
      "\u001b[0;32m<ipython-input-1-ad693d158e43>\u001b[0m in \u001b[0;36m<module>\u001b[0;34m()\u001b[0m\n\u001b[0;32m----> 1\u001b[0;31m \u001b[0;32mimport\u001b[0m \u001b[0mfastPAT\u001b[0m \u001b[0;32mas\u001b[0m \u001b[0mfpat\u001b[0m\u001b[0;34m\u001b[0m\u001b[0m\n\u001b[0m\u001b[1;32m      2\u001b[0m \u001b[0;32mimport\u001b[0m \u001b[0mLoad_PAT2D_data\u001b[0m \u001b[0;32mas\u001b[0m \u001b[0mdata\u001b[0m\u001b[0;34m\u001b[0m\u001b[0m\n\u001b[1;32m      3\u001b[0m \u001b[0;32mimport\u001b[0m \u001b[0mmatplotlib\u001b[0m\u001b[0;34m\u001b[0m\u001b[0m\n\u001b[1;32m      4\u001b[0m \u001b[0mget_ipython\u001b[0m\u001b[0;34m(\u001b[0m\u001b[0;34m)\u001b[0m\u001b[0;34m.\u001b[0m\u001b[0mmagic\u001b[0m\u001b[0;34m(\u001b[0m\u001b[0;34mu'matplotlib inline'\u001b[0m\u001b[0;34m)\u001b[0m\u001b[0;34m\u001b[0m\u001b[0m\n\u001b[1;32m      5\u001b[0m \u001b[0;32mimport\u001b[0m \u001b[0mmatplotlib\u001b[0m\u001b[0;34m.\u001b[0m\u001b[0mpyplot\u001b[0m \u001b[0;32mas\u001b[0m \u001b[0mplt\u001b[0m\u001b[0;34m\u001b[0m\u001b[0m\n",
      "\u001b[0;32m/mhome/maths/s/sl767/PythonCode/ModelCorrection/fastPAT.py\u001b[0m in \u001b[0;36m<module>\u001b[0;34m()\u001b[0m\n\u001b[1;32m      4\u001b[0m \u001b[0;32mimport\u001b[0m \u001b[0mnumpy\u001b[0m \u001b[0;32mas\u001b[0m \u001b[0mnp\u001b[0m\u001b[0;34m\u001b[0m\u001b[0m\n\u001b[1;32m      5\u001b[0m \u001b[0;32mfrom\u001b[0m \u001b[0mscipy\u001b[0m\u001b[0;34m.\u001b[0m\u001b[0minterpolate\u001b[0m \u001b[0;32mimport\u001b[0m \u001b[0mgriddata\u001b[0m\u001b[0;34m\u001b[0m\u001b[0m\n\u001b[0;32m----> 6\u001b[0;31m \u001b[0;32mimport\u001b[0m \u001b[0mh5py\u001b[0m\u001b[0;34m\u001b[0m\u001b[0m\n\u001b[0m\u001b[1;32m      7\u001b[0m \u001b[0;34m\u001b[0m\u001b[0m\n\u001b[1;32m      8\u001b[0m \u001b[0;34m\u001b[0m\u001b[0m\n",
      "\u001b[0;31mImportError\u001b[0m: No module named h5py"
     ]
    }
   ],
   "source": [
    "import fastPAT as fpat\n",
    "import Load_PAT2D_data as data\n",
    "import matplotlib\n",
    "%matplotlib inline \n",
    "import matplotlib.pyplot as plt\n",
    "import Framework as fr\n",
    "import odl\n",
    "import numpy as np"
   ]
  },
  {
   "cell_type": "code",
   "execution_count": null,
   "metadata": {
    "collapsed": false,
    "deletable": true,
    "editable": true
   },
   "outputs": [],
   "source": [
    "frame = fr.framework()"
   ]
  },
  {
   "cell_type": "code",
   "execution_count": null,
   "metadata": {
    "collapsed": true,
    "deletable": true,
    "editable": true
   },
   "outputs": [],
   "source": [
    "model = frame.pat_operator\n",
    "pat_odl = fr.as_odl_operator(model)\n",
    "cor_odl = fr.as_odl_operator(frame.cor_operator)\n",
    "joint_odl = fr.as_odl_operator(fr.concat(frame.cor_operator, model))"
   ]
  },
  {
   "cell_type": "code",
   "execution_count": null,
   "metadata": {
    "collapsed": false,
    "deletable": true,
    "editable": true
   },
   "outputs": [],
   "source": [
    "dataApr, dataTrue, imageTrue = frame.data_sets.test.next_batch(1)\n",
    "\n",
    "def tv_reconstruction(y, start_point, operator, param=0.0, steps = 1, o_norm = 20):\n",
    "    space = operator.domain\n",
    "    ran = operator.range\n",
    "    # the operators\n",
    "    gradients = odl.Gradient(space, method='forward')\n",
    "    broad_op = odl.BroadcastOperator(operator, gradients)\n",
    "    # define empty functional to fit the chambolle_pock framework\n",
    "    g = odl.solvers.ZeroFunctional(broad_op.domain)\n",
    "\n",
    "    # the norms\n",
    "    l1_norm = param * odl.solvers.L1Norm(gradients.range)\n",
    "    l2_norm_squared = odl.solvers.L2NormSquared(ran).translated(y)\n",
    "    functional = odl.solvers.SeparableSum(l2_norm_squared, l1_norm)\n",
    "    \n",
    "    # hard code operator norm in, assuming the operator is roughy unitary\n",
    "    op_norm = o_norm\n",
    "    \n",
    "    tau = 5.0 / op_norm\n",
    "    sigma = 0.2 / op_norm\n",
    "    niter = steps\n",
    "\n",
    "    # find starting point\n",
    "    s = np.copy(start_point)\n",
    "    x = space.element(s)\n",
    "\n",
    "    # Run the optimization algoritm\n",
    "    # odl.solvers.chambolle_pock_solver(x, functional, g, broad_op, tau = tau, sigma = sigma, niter=niter)\n",
    "    odl.solvers.pdhg(x, functional, g, broad_op, tau=tau, sigma=sigma, niter=niter)\n",
    "    return x\n",
    "\n",
    "def tv_reconstruction_positiv(y, start_point, operator, param=0.0, steps = 1, o_norm = 20):\n",
    "    space = operator.domain\n",
    "    ran = operator.range\n",
    "    # the operators\n",
    "    gradients = odl.Gradient(space, method='forward')\n",
    "    broad_op = odl.BroadcastOperator(operator, gradients)\n",
    "    # define empty functional to fit the chambolle_pock framework\n",
    "    g = odl.solvers.IndicatorNonnegativity(space)\n",
    "\n",
    "    # the norms\n",
    "    l1_norm = param * odl.solvers.L1Norm(gradients.range)\n",
    "    l2_norm_squared = odl.solvers.L2NormSquared(ran).translated(y)\n",
    "    functional = odl.solvers.SeparableSum(l2_norm_squared, l1_norm)\n",
    "    \n",
    "    # hard code operator norm in, assuming the operator is roughy unitary\n",
    "    op_norm = o_norm\n",
    "    \n",
    "    tau = 5.0 / op_norm\n",
    "    sigma = 0.2 / op_norm\n",
    "    niter = steps\n",
    "\n",
    "    # find starting point\n",
    "    s = np.copy(start_point)\n",
    "    x = space.element(s)\n",
    "\n",
    "    # Run the optimization algoritm\n",
    "    # odl.solvers.chambolle_pock_solver(x, functional, g, broad_op, tau = tau, sigma = sigma, niter=niter)\n",
    "    odl.solvers.pdhg(x, functional, g, broad_op, tau=tau, sigma=sigma, niter=niter)\n",
    "    return x\n",
    "\n",
    "def l2(x1,x2):\n",
    "    return np.sum(np.square(x1 -x2))\n",
    "                  \n",
    "def data_error(image, measurement):\n",
    "    return l2(model.evaluate(image)-measurement)\n",
    "\n",
    "def data_error_cor(image, measurement):\n",
    "    return l2(frame.cor_operator.evaluate(model.evaluate(image)-measurement))\n",
    "\n",
    "def visualize(image, true_meas):\n",
    "    meas = model.evaluate(image)\n",
    "    cor_meas = frame.cor_operator.evaluate(meas)\n",
    "    plt.figure()\n",
    "    plt.subplot(141)\n",
    "    plt.imshow(image)\n",
    "    plt.axis('off')\n",
    "    plt.title('Reconstruction')\n",
    "    plt.subplot(142)\n",
    "    plt.imshow(meas)\n",
    "    plt.axis('off')\n",
    "    plt.title('Appr. y')\n",
    "    plt.subplot(143)\n",
    "    plt.imshow(cor_meas)\n",
    "    plt.axis('off')\n",
    "    plt.title('Cor. y')\n",
    "    plt.subplot(144)\n",
    "    plt.imshow(true_meas)\n",
    "    plt.title('True y')\n",
    "    plt.axis('off')\n",
    "    plt.show()\n",
    "    print('Data Error Uncorrected: {}'.format(l2(true_meas, meas)))\n",
    "    print('Data Error Corrected: {}'.format(l2(true_meas, cor_meas)))\n",
    "\n",
    "naive_inverse = model.inverse(dataTrue[0,...])\n",
    "x = naive_inverse"
   ]
  },
  {
   "cell_type": "code",
   "execution_count": null,
   "metadata": {
    "collapsed": false,
    "deletable": true,
    "editable": true,
    "scrolled": true
   },
   "outputs": [],
   "source": [
    "print('True Image')\n",
    "visualize(imageTrue[0,...], dataTrue[0,...])"
   ]
  },
  {
   "cell_type": "code",
   "execution_count": null,
   "metadata": {
    "collapsed": false,
    "deletable": true,
    "editable": true
   },
   "outputs": [],
   "source": [
    "print('Direct Inverse')\n",
    "visualize(naive_inverse, dataTrue[0,...])"
   ]
  },
  {
   "cell_type": "code",
   "execution_count": null,
   "metadata": {
    "collapsed": false,
    "deletable": true,
    "editable": true
   },
   "outputs": [],
   "source": [
    "steps = 50\n",
    "rec = tv_reconstruction_positiv(dataTrue[0,...], start_point=naive_inverse, operator=pat_odl, steps=steps, param = 0.0)\n",
    "print('Minimizer Uncorrected data term, no TV, positivity constraint')\n",
    "visualize(rec, dataTrue[0,...])"
   ]
  },
  {
   "cell_type": "code",
   "execution_count": null,
   "metadata": {
    "collapsed": false,
    "deletable": true,
    "editable": true
   },
   "outputs": [],
   "source": [
    "steps = 50\n",
    "rec = tv_reconstruction(dataTrue[0,...], start_point=naive_inverse, operator=pat_odl, steps=steps, param = 0.0)\n",
    "print('Minimizer Uncorrected data term, no TV')\n",
    "visualize(rec, dataTrue[0,...])"
   ]
  },
  {
   "cell_type": "code",
   "execution_count": null,
   "metadata": {
    "collapsed": false,
    "deletable": true,
    "editable": true
   },
   "outputs": [],
   "source": [
    "steps = 50\n",
    "rec2 = tv_reconstruction_positiv(dataTrue[0,...], start_point=naive_inverse, operator=pat_odl, steps=steps, param = 0.05)\n",
    "print('TV, uncorrected operator, positivity constraint')\n",
    "visualize(rec2, dataTrue[0,...])"
   ]
  },
  {
   "cell_type": "code",
   "execution_count": null,
   "metadata": {
    "collapsed": false,
    "deletable": true,
    "editable": true,
    "scrolled": true
   },
   "outputs": [],
   "source": [
    "steps = 50\n",
    "rec3 = tv_reconstruction(dataTrue[0,...], start_point=naive_inverse, \n",
    "                         operator=cor_odl*pat_odl, steps=steps, param = 0.05)\n",
    "print('TV, corrected operator')\n",
    "visualize(rec3, dataTrue[0,...])"
   ]
  },
  {
   "cell_type": "code",
   "execution_count": null,
   "metadata": {
    "collapsed": false,
    "deletable": true,
    "editable": true
   },
   "outputs": [],
   "source": [
    "steps = 50\n",
    "rec3 = tv_reconstruction_positiv(dataTrue[0,...], start_point=naive_inverse, \n",
    "                         operator=cor_odl*pat_odl, steps=steps, param = 0.05)\n",
    "print('TV, corrected operator, positivity constraint')\n",
    "visualize(rec3, dataTrue[0,...])"
   ]
  },
  {
   "cell_type": "code",
   "execution_count": 2,
   "metadata": {
    "collapsed": false,
    "deletable": true,
    "editable": true
   },
   "outputs": [
    {
     "ename": "ImportError",
     "evalue": "No module named tensorflow",
     "output_type": "error",
     "traceback": [
      "\u001b[0;31m---------------------------------------------------------------------------\u001b[0m",
      "\u001b[0;31mImportError\u001b[0m                               Traceback (most recent call last)",
      "\u001b[0;32m<ipython-input-2-cb72fb0183f8>\u001b[0m in \u001b[0;36m<module>\u001b[0;34m()\u001b[0m\n\u001b[1;32m      1\u001b[0m \u001b[0;32mimport\u001b[0m \u001b[0mnumpy\u001b[0m\u001b[0;34m\u001b[0m\u001b[0m\n\u001b[0;32m----> 2\u001b[0;31m \u001b[0;32mimport\u001b[0m \u001b[0mtensorflow\u001b[0m\u001b[0;34m\u001b[0m\u001b[0m\n\u001b[0m",
      "\u001b[0;31mImportError\u001b[0m: No module named tensorflow"
     ]
    }
   ],
   "source": []
  },
  {
   "cell_type": "code",
   "execution_count": 5,
   "metadata": {
    "collapsed": false,
    "deletable": true,
    "editable": true
   },
   "outputs": [],
   "source": [
    "import sys"
   ]
  },
  {
   "cell_type": "code",
   "execution_count": null,
   "metadata": {
    "collapsed": true,
    "deletable": true,
    "editable": true
   },
   "outputs": [],
   "source": []
  },
  {
   "cell_type": "code",
   "execution_count": null,
   "metadata": {
    "collapsed": true,
    "deletable": true,
    "editable": true
   },
   "outputs": [],
   "source": []
  },
  {
   "cell_type": "code",
   "execution_count": null,
   "metadata": {
    "collapsed": true,
    "deletable": true,
    "editable": true
   },
   "outputs": [],
   "source": []
  },
  {
   "cell_type": "code",
   "execution_count": null,
   "metadata": {
    "collapsed": true,
    "deletable": true,
    "editable": true
   },
   "outputs": [],
   "source": []
  },
  {
   "cell_type": "code",
   "execution_count": null,
   "metadata": {
    "collapsed": true,
    "deletable": true,
    "editable": true
   },
   "outputs": [],
   "source": []
  }
 ],
 "metadata": {
  "kernelspec": {
   "display_name": "Python 2",
   "language": "python",
   "name": "python2"
  },
  "language_info": {
   "codemirror_mode": {
    "name": "ipython",
    "version": 2
   },
   "file_extension": ".py",
   "mimetype": "text/x-python",
   "name": "python",
   "nbconvert_exporter": "python",
   "pygments_lexer": "ipython2",
   "version": "2.7.14"
  }
 },
 "nbformat": 4,
 "nbformat_minor": 2
}
