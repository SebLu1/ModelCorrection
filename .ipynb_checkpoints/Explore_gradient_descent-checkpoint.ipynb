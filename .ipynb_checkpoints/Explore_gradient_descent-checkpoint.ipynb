{
 "cells": [
  {
   "cell_type": "code",
   "execution_count": 1,
   "metadata": {},
   "outputs": [],
   "source": [
    "import fastPAT as fpat\n",
    "import Load_PAT2D_data as data\n",
    "import matplotlib\n",
    "%matplotlib inline \n",
    "import matplotlib.pyplot as plt\n",
    "import Framework as fr\n",
    "import odl\n",
    "import numpy as np"
   ]
  },
  {
   "cell_type": "code",
   "execution_count": 2,
   "metadata": {},
   "outputs": [
    {
     "name": "stdout",
     "output_type": "stream",
     "text": [
      "Start loading test data\n",
      "256 64 64\n",
      "256 64 64\n",
      "256 64 64\n",
      "Start loading training data\n",
      "4096 64 64\n",
      "4096 64 64\n",
      "4096 64 64\n",
      "64 127\n",
      "64 127\n",
      "64 127\n",
      "128 64\n",
      "128 64\n",
      "128 64\n",
      "4096 4096\n",
      "Saves/balls64/default_experiment/\n",
      "Saves/balls64/default_experiment/\n",
      "INFO:tensorflow:Restoring parameters from /Users/seb/Projects/ModelCorrection/Saves/balls64/default_experiment/Data/model-41100\n",
      "Save restored\n"
     ]
    }
   ],
   "source": [
    "frame = fr.framework()"
   ]
  },
  {
   "cell_type": "code",
   "execution_count": 3,
   "metadata": {},
   "outputs": [],
   "source": [
    "# load the data\n",
    "dataApr, dataTrue, imageTrue = frame.data_sets.test.next_batch(1)"
   ]
  },
  {
   "cell_type": "code",
   "execution_count": null,
   "metadata": {},
   "outputs": [],
   "source": []
  },
  {
   "cell_type": "code",
   "execution_count": 70,
   "metadata": {},
   "outputs": [],
   "source": [
    "def l2(x):\n",
    "    return np.sqrt(np.sum(np.square(x)))\n",
    "\n",
    "class Tracker(object):\n",
    "    def track(self):\n",
    "        pass\n",
    "    def results(self):\n",
    "        pass\n",
    "\n",
    "class Track_Forward(Tracker):\n",
    "    # Evaluates the error in the foward approximation. All inputs as odl operators.\n",
    "    # Evaluates ||appr_op(x)-true_op(x)|| / ||true_op(x)|| + epsilon to compute the relativ error in approximation\n",
    "    def __init__(self, true_oper, appr_oper):\n",
    "        self.true_oper = true_oper\n",
    "        self.appr_oper = appr_oper\n",
    "        self.forw_error = []\n",
    "    \n",
    "    def track(self, x, data):\n",
    "        true_y = self.true_oper(x)\n",
    "        appr_y = self.appr_oper(x)\n",
    "        tot_err = l2(true_y- appr_y)\n",
    "        rel_err = (tot_err/(l2(true_y)+1e-10))*100\n",
    "        self.forw_error.append(rel_err)\n",
    "    \n",
    "    def results(self):\n",
    "        return self.forw_error\n",
    "    \n",
    "class Track_Adjoint(Tracker):\n",
    "    # Evaluates the error in the adjoing approximation. All inputs as odl operators\n",
    "    # Evaluates || deriv(appr_oper(x))^t(y)-true_oper^t(y)|| / ||true_oper^t(y)|| + epsilon\n",
    "    def __init__(self, true_oper, appr_oper):\n",
    "        self.true_oper = true_oper\n",
    "        self.appr_oper = appr_oper\n",
    "        self.adj_error = []\n",
    "        \n",
    "    def track(self, x, data):\n",
    "        y = self.true_oper(x)-data\n",
    "        true_x = self.true_oper.derivative(x).adjoint(y)\n",
    "        appr_x = self.appr_oper.derivative(x).adjoint(y)\n",
    "        tot_err = l2(true_x-appr_x)\n",
    "        rel_err = (tot_err / (l2(true_x)+1e-10))*100\n",
    "        self.adj_error.append(rel_err)\n",
    "        \n",
    "    def results(self):\n",
    "        return self.adj_error\n",
    "\n",
    "# runs gradient descent on the data term only. Evaluates with every Tracker in the tracker_list\n",
    "def unreg_gradient_descent(data, guess, operator, step_size, steps, tracker_list=None):\n",
    "    reco = np.copy(guess)\n",
    "    data = operator.domain.element(data)\n",
    "    reco = operator.range.element(reco)\n",
    "    l2_odl = odl.solvers.L2NormSquared(operator.range).translated(data)\n",
    "    data_term = l2_odl*operator\n",
    "    for k in range(steps):\n",
    "        for tracker in tracker_list:\n",
    "            tracker.track(reco, data)\n",
    "        reco = reco-step_size*(data_term.gradient(reco))\n",
    "    plt.figure()\n",
    "    for tracker in tracker_list:\n",
    "        plt.plot(tracker.results())\n",
    "    plt.show()"
   ]
  },
  {
   "cell_type": "code",
   "execution_count": 74,
   "metadata": {},
   "outputs": [
    {
     "name": "stdout",
     "output_type": "stream",
     "text": [
      "99.6713285622\n",
      "99.6558272185\n"
     ]
    },
    {
     "data": {
      "image/png": "[encoded data removed]",
      "text/plain": [
       "<Figure size 432x288 with 1 Axes>"
      ]
     },
     "metadata": {
      "needs_background": "light"
     },
     "output_type": "display_data"
    }
   ],
   "source": [
    "# plot the developpement of approximation quality during gradient descent\n",
    "true_op = frame.exact_odl\n",
    "fourier_op = frame.appr_odl\n",
    "diff_op = frame.cor_odl\n",
    "appr_op = diff_op*fourier_op\n",
    "\n",
    "appr_np_op = frame.appr_operator\n",
    "reconstruction = appr_np_op.inverse(dataTrue[0,...])\n",
    "\n",
    "trackers = [Track_Forward(true_op, appr_op), Track_Adjoint(true_op, appr_op)]\n",
    "unreg_gradient_descent(dataTrue[0,...], imageTrue[0,...], true_op, 0.1, 2, trackers)"
   ]
  },
  {
   "cell_type": "code",
   "execution_count": 6,
   "metadata": {},
   "outputs": [],
   "source": [
    "dataApr, dataTrue, imageTrue = frame.data_sets.test.next_batch(1)\n",
    "# operators as np-operator\n",
    "np_exact = frame.exact_operator\n",
    "np_appr = frame.appr_operator\n",
    "np_cor = frame.cor_operator"
   ]
  },
  {
   "cell_type": "code",
   "execution_count": 8,
   "metadata": {},
   "outputs": [
    {
     "name": "stdout",
     "output_type": "stream",
     "text": [
      "0.28501508003\n",
      "0.285015062846\n",
      "0.3453178236\n",
      "0.3453178236\n",
      "3.95425329022e-05\n",
      "2.13830121528e-15\n",
      "3.49764884378\n",
      "4.57866631295\n"
     ]
    }
   ],
   "source": [
    "### test the forward operators ###\n",
    "dataTrue2 = np_exact.evaluate((imageTrue[0,...]))\n",
    "dataAppr = np_appr.evaluate(imageTrue[0,...])\n",
    "print(np.max(dataTrue2))\n",
    "print(np.max(dataTrue))\n",
    "print(np.max(dataAppr))\n",
    "print(np.max(dataApr))\n",
    "print(l2(dataTrue[0,...]-dataTrue2))\n",
    "print(l2(dataAppr-dataApr[0,...]))\n",
    "print(l2(dataAppr-dataTrue[0,...]))\n",
    "print(l2(dataTrue))"
   ]
  },
  {
   "cell_type": "code",
   "execution_count": 9,
   "metadata": {},
   "outputs": [
    {
     "data": {
      "image/png": "[encoded data removed]",
      "text/plain": [
       "<Figure size 432x288 with 3 Axes>"
      ]
     },
     "metadata": {
      "needs_background": "light"
     },
     "output_type": "display_data"
    }
   ],
   "source": [
    "plt.figure()\n",
    "plt.subplot(131)\n",
    "plt.imshow(dataTrue[0,...])\n",
    "plt.subplot(132)\n",
    "plt.imshow(dataTrue2)\n",
    "plt.subplot(133)\n",
    "plt.imshow(dataAppr)\n",
    "plt.show()"
   ]
  },
  {
   "cell_type": "code",
   "execution_count": 66,
   "metadata": {},
   "outputs": [
    {
     "name": "stdout",
     "output_type": "stream",
     "text": [
      "2.29874013709\n",
      "1.95767070151\n",
      "1.35811971068\n",
      "2.92240365288e-06\n",
      "59.0810456871\n",
      "115.585006359\n",
      "[115.58500635887472]\n"
     ]
    }
   ],
   "source": [
    "### test the adjoints ###\n",
    "adj_true = np_exact.differentiate(0,dataTrue[0,...])\n",
    "adj_appr = np_appr.differentiate(0,dataTrue[0,...])\n",
    "print(l2(adj_true))\n",
    "print(l2(adj_appr))\n",
    "print(l2(adj_true-adj_appr))\n",
    "\n",
    "# compute adjoint using odl\n",
    "x = true_op.domain.element(imageTrue[0,...])\n",
    "data = true_op.range.element(dataTrue[0,...])\n",
    "y = \n",
    "adj_odl = true_op.derivative(x).adjoint(y)\n",
    "\n",
    "print(l2(adj_true-adj_odl))\n",
    "tot_err = l2(adj_true-adj_appr)\n",
    "print((tot_err / (l2(adj_true)+1e-10))*100)\n",
    "\n",
    "tracker=Track_Adjoint(true_op, fourier_op)\n",
    "tracker.track(x,y)\n",
    "print(tracker.results())"
   ]
  },
  {
   "cell_type": "code",
   "execution_count": 40,
   "metadata": {},
   "outputs": [
    {
     "data": {
      "image/png": "[encoded data removed]",
      "text/plain": [
       "<Figure size 432x288 with 3 Axes>"
      ]
     },
     "metadata": {
      "needs_background": "light"
     },
     "output_type": "display_data"
    }
   ],
   "source": [
    "plt.figure()\n",
    "plt.subplot(131)\n",
    "plt.imshow(imageTrue[0,...])\n",
    "plt.subplot(132)\n",
    "plt.imshow(adj_true)\n",
    "plt.subplot(133)\n",
    "plt.imshow(adj_appr)\n",
    "plt.show()"
   ]
  },
  {
   "cell_type": "code",
   "execution_count": null,
   "metadata": {},
   "outputs": [],
   "source": []
  },
  {
   "cell_type": "code",
   "execution_count": null,
   "metadata": {},
   "outputs": [],
   "source": []
  }
 ],
 "metadata": {
  "kernelspec": {
   "display_name": "Python 3",
   "language": "python",
   "name": "python3"
  },
  "language_info": {
   "codemirror_mode": {
    "name": "ipython",
    "version": 3
   },
   "file_extension": ".py",
   "mimetype": "text/x-python",
   "name": "python",
   "nbconvert_exporter": "python",
   "pygments_lexer": "ipython3",
   "version": "3.6.6"
  }
 },
 "nbformat": 4,
 "nbformat_minor": 2
}
