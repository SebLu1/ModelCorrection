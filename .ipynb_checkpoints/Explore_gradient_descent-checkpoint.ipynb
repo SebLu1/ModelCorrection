{
 "cells": [
  {
   "cell_type": "code",
   "execution_count": 1,
   "metadata": {},
   "outputs": [],
   "source": [
    "import fastPAT as fpat\n",
    "import Load_PAT2D_data as data\n",
    "import matplotlib\n",
    "%matplotlib inline \n",
    "import matplotlib.pyplot as plt\n",
    "import Framework as fr\n",
    "import odl\n",
    "import numpy as np"
   ]
  },
  {
   "cell_type": "code",
   "execution_count": 2,
   "metadata": {},
   "outputs": [
    {
     "name": "stdout",
     "output_type": "stream",
     "text": [
      "Start loading test data\n",
      "256 64 64\n",
      "256 64 64\n",
      "256 64 64\n",
      "Start loading training data\n",
      "4096 64 64\n",
      "4096 64 64\n",
      "4096 64 64\n",
      "64 127\n",
      "64 127\n",
      "64 127\n",
      "128 64\n",
      "128 64\n",
      "128 64\n",
      "4096 4096\n",
      "/local/scratch/public/sl767/ModelCorrection/Saves/balls64/default_experiment/\n",
      "/local/scratch/public/sl767/ModelCorrection/Saves/balls64/default_experiment/\n",
      "INFO:tensorflow:Restoring parameters from /local/scratch/public/sl767/ModelCorrection/Saves/balls64/default_experiment/Data/model-41100\n",
      "Save restored\n"
     ]
    }
   ],
   "source": [
    "frame = fr.framework()"
   ]
  },
  {
   "cell_type": "code",
   "execution_count": 10,
   "metadata": {},
   "outputs": [],
   "source": [
    "# load the data\n",
    "dataApr, dataTrue, imageTrue = frame.data_sets.test.next_batch(1)"
   ]
  },
  {
   "cell_type": "code",
   "execution_count": 5,
   "metadata": {},
   "outputs": [],
   "source": [
    "def l2(x):\n",
    "    return np.sqrt(np.sum(np.square(x)))\n",
    "# Evaluates the error in the foward approximation. All inputs as odl operators.\n",
    "# Evaluates ||appr_op(x)-true_op(x)|| / ||true_op(x)|| + epsilon to compute the relativ error in approximation\n",
    "def forward_error(appr_operator, true_operator, x):\n",
    "    true_y = true_operator(x)\n",
    "    appr_y = appr_operator(y)\n",
    "    total_err = l2(true_y- appr_y)\n",
    "    rel_err = total_err/(l2(true_y)+1e-10)\n",
    "    return rel_err\n",
    "    \n",
    "# Evaluates the error in the adjoing approximation. All inputs as odl operators\n",
    "# Evaluates || deriv(appr_oper(x))^t(y)-true_oper^t(y)|| / ||true_oper^t(y)|| + epsilon\n",
    "def adjoint_error(appr_operator, true_operator, x, data):\n",
    "    y = true_operator(x)-data\n",
    "    true_x = true_operator.adjoint(y)\n",
    "    appr_x = appr_operator.derivative(x).adjoint(y)\n",
    "    tot_err = l2(true_x-appr_x)\n",
    "    rel_err = total_err / (l2(true_x)+1e-10)\n",
    "    return rel_err"
   ]
  },
  {
   "cell_type": "code",
   "execution_count": 6,
   "metadata": {},
   "outputs": [],
   "source": [
    "# runs gradient descent on the data term only. Evaluates \n",
    "def unreg_gradient_descent(data_np, reconstruction_np, true_oper, appr_oper, step_size, steps):\n",
    "    data = true_oper.domain.element(data_np)\n",
    "    reconstruction = true_oper.range.element(reconstruction_np)\n",
    "    l2_odl = odl.solvers.L2NormSquared(true_op.range).translated(data)\n",
    "    data_term = l2_odl*appr_oper\n",
    "    f_e = []\n",
    "    adj_e = []\n",
    "    for k in range(steps):\n",
    "        reconstruction = reconstruction - step_size*data_term.derivative(reconstruction)\n",
    "        f_e.append(forward_error(appr_oper, true_oper, reconstruction))\n",
    "        adj_e.appen(adjoint_error(appr_oper, true_oper, reconstruction, data))\n",
    "        print((f_e[-1], adj_e[-1]))\n",
    "    plt.figure()\n",
    "    plt.plot(f_e)\n",
    "    plt.plot(adj_e)\n",
    "    plt.show()"
   ]
  },
  {
   "cell_type": "code",
   "execution_count": 11,
   "metadata": {},
   "outputs": [
    {
     "ename": "AttributeError",
     "evalue": "'fastPAT' object has no attribute 'kspace_backward'",
     "output_type": "error",
     "traceback": [
      "\u001b[0;31m---------------------------------------------------------------------------\u001b[0m",
      "\u001b[0;31mAttributeError\u001b[0m                            Traceback (most recent call last)",
      "\u001b[0;32m<ipython-input-11-5c858cc8fdab>\u001b[0m in \u001b[0;36m<module>\u001b[0;34m\u001b[0m\n\u001b[1;32m      6\u001b[0m \u001b[0;34m\u001b[0m\u001b[0m\n\u001b[1;32m      7\u001b[0m \u001b[0mappr_np_op\u001b[0m \u001b[0;34m=\u001b[0m \u001b[0mframe\u001b[0m\u001b[0;34m.\u001b[0m\u001b[0mappr_operator\u001b[0m\u001b[0;34m\u001b[0m\u001b[0m\n\u001b[0;32m----> 8\u001b[0;31m \u001b[0mreconstruction\u001b[0m \u001b[0;34m=\u001b[0m \u001b[0mappr_np_op\u001b[0m\u001b[0;34m.\u001b[0m\u001b[0minverse\u001b[0m\u001b[0;34m(\u001b[0m\u001b[0mdataTrue\u001b[0m\u001b[0;34m[\u001b[0m\u001b[0;36m0\u001b[0m\u001b[0;34m,\u001b[0m\u001b[0;34m...\u001b[0m\u001b[0;34m]\u001b[0m\u001b[0;34m)\u001b[0m\u001b[0;34m\u001b[0m\u001b[0m\n\u001b[0m\u001b[1;32m      9\u001b[0m \u001b[0;34m\u001b[0m\u001b[0m\n\u001b[1;32m     10\u001b[0m \u001b[0munreg_gradient_descent\u001b[0m\u001b[0;34m(\u001b[0m\u001b[0mdataTrue\u001b[0m\u001b[0;34m[\u001b[0m\u001b[0;36m0\u001b[0m\u001b[0;34m,\u001b[0m\u001b[0;34m...\u001b[0m\u001b[0;34m]\u001b[0m\u001b[0;34m,\u001b[0m \u001b[0mreconstruction\u001b[0m\u001b[0;34m,\u001b[0m \u001b[0mtrue_op\u001b[0m\u001b[0;34m,\u001b[0m \u001b[0mcor_op\u001b[0m\u001b[0;34m,\u001b[0m \u001b[0;36m0.01\u001b[0m\u001b[0;34m,\u001b[0m \u001b[0;36m30\u001b[0m\u001b[0;34m)\u001b[0m\u001b[0;34m\u001b[0m\u001b[0m\n",
      "\u001b[0;32m/mhome/maths/s/sl767/PythonCode/ModelCorrection/Framework.py\u001b[0m in \u001b[0;36minverse\u001b[0;34m(self, y)\u001b[0m\n\u001b[1;32m    150\u001b[0m                 \u001b[0mres\u001b[0m\u001b[0;34m[\u001b[0m\u001b[0mk\u001b[0m\u001b[0;34m,\u001b[0m\u001b[0;34m...\u001b[0m\u001b[0;34m]\u001b[0m \u001b[0;34m=\u001b[0m \u001b[0mself\u001b[0m\u001b[0;34m.\u001b[0m\u001b[0mPAT_OP\u001b[0m\u001b[0;34m.\u001b[0m\u001b[0mkspace_backward\u001b[0m\u001b[0;34m(\u001b[0m\u001b[0my\u001b[0m\u001b[0;34m[\u001b[0m\u001b[0mk\u001b[0m\u001b[0;34m,\u001b[0m\u001b[0;34m...\u001b[0m\u001b[0;34m]\u001b[0m\u001b[0;34m)\u001b[0m\u001b[0;34m\u001b[0m\u001b[0m\n\u001b[1;32m    151\u001b[0m         \u001b[0;32melif\u001b[0m \u001b[0mlen\u001b[0m\u001b[0;34m(\u001b[0m\u001b[0my\u001b[0m\u001b[0;34m.\u001b[0m\u001b[0mshape\u001b[0m\u001b[0;34m)\u001b[0m \u001b[0;34m==\u001b[0m \u001b[0;36m2\u001b[0m\u001b[0;34m:\u001b[0m\u001b[0;34m\u001b[0m\u001b[0m\n\u001b[0;32m--> 152\u001b[0;31m             \u001b[0mres\u001b[0m \u001b[0;34m=\u001b[0m \u001b[0mself\u001b[0m\u001b[0;34m.\u001b[0m\u001b[0mPAT_OP\u001b[0m\u001b[0;34m.\u001b[0m\u001b[0mkspace_backward\u001b[0m\u001b[0;34m(\u001b[0m\u001b[0my\u001b[0m\u001b[0;34m)\u001b[0m\u001b[0;34m\u001b[0m\u001b[0m\n\u001b[0m\u001b[1;32m    153\u001b[0m         \u001b[0;32melse\u001b[0m\u001b[0;34m:\u001b[0m\u001b[0;34m\u001b[0m\u001b[0m\n\u001b[1;32m    154\u001b[0m             \u001b[0;32mraise\u001b[0m \u001b[0mValueError\u001b[0m\u001b[0;34m\u001b[0m\u001b[0m\n",
      "\u001b[0;31mAttributeError\u001b[0m: 'fastPAT' object has no attribute 'kspace_backward'"
     ]
    }
   ],
   "source": [
    "# plot the developpement of approximation quality during gradient descent\n",
    "true_op = frame.exact_odl\n",
    "appr_op = frame.appr_odl\n",
    "diff_op = frame.cor_odl\n",
    "cor_op = diff_op*appr_op\n",
    "\n",
    "appr_np_op = frame.appr_operator\n",
    "reconstruction = appr_np_op.inverse(dataTrue[0,...])\n",
    "\n",
    "unreg_gradient_descent(dataTrue[0,...], reconstruction, true_op, cor_op, 0.01, 30)"
   ]
  },
  {
   "cell_type": "code",
   "execution_count": null,
   "metadata": {},
   "outputs": [],
   "source": []
  }
 ],
 "metadata": {
  "kernelspec": {
   "display_name": "Python 3",
   "language": "python",
   "name": "python3"
  },
  "language_info": {
   "codemirror_mode": {
    "name": "ipython",
    "version": 3
   },
   "file_extension": ".py",
   "mimetype": "text/x-python",
   "name": "python",
   "nbconvert_exporter": "python",
   "pygments_lexer": "ipython3",
   "version": "3.6.6"
  }
 },
 "nbformat": 4,
 "nbformat_minor": 2
}
